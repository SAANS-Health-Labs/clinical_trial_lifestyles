{
 "cells": [
  {
   "cell_type": "code",
   "execution_count": 1,
   "id": "e65a554a",
   "metadata": {},
   "outputs": [
    {
     "name": "stdout",
     "output_type": "stream",
     "text": [
      "Last modified by Xiaoqing: 211201\n"
     ]
    }
   ],
   "source": [
    "from datetime import datetime\n",
    "date = datetime.today().strftime('%y%m%d')\n",
    "print ('Last modified by Xiaoqing: ' + date)"
   ]
  },
  {
   "cell_type": "code",
   "execution_count": 2,
   "id": "38240ee5",
   "metadata": {},
   "outputs": [],
   "source": [
    "import pandas as pd\n",
    "import numpy as np"
   ]
  },
  {
   "cell_type": "code",
   "execution_count": 3,
   "id": "dceb233e",
   "metadata": {},
   "outputs": [],
   "source": [
    "df = pd.read_csv('input.csv')\n",
    "df['criteria']= df['criteria'].str.lower()"
   ]
  },
  {
   "cell_type": "markdown",
   "id": "7a16f531",
   "metadata": {},
   "source": [
    "# Most common scenarios"
   ]
  },
  {
   "cell_type": "markdown",
   "id": "6979a834",
   "metadata": {},
   "source": [
    "In the most common scenario, clinical trials that mention \"alcohol\" intend to exclude participants who drink too much alcohol. The same logic applies to smoking and recreational drugs. In these cases, we detect keywords, and label whether a clinical trial is excluding participants based on lifestyle factors."
   ]
  },
  {
   "cell_type": "markdown",
   "id": "4d494345",
   "metadata": {},
   "source": [
    "## Note"
   ]
  },
  {
   "cell_type": "markdown",
   "id": "f65af7a7",
   "metadata": {},
   "source": [
    "Mentions of lifestyle factors  can appear in both inclusion and exclusion criteria. For example, a study may want to include non-smokers and exclude smokers."
   ]
  },
  {
   "cell_type": "markdown",
   "id": "5a9fc459",
   "metadata": {},
   "source": [
    "## Alcohol"
   ]
  },
  {
   "cell_type": "markdown",
   "id": "110ece5a",
   "metadata": {},
   "source": [
    "Many clinical trials wish to exclude participants with alcoholism. Here are the keywords: alcoholism, alcohol use, alcohol dependence, alcohol abuse\n",
    "\n",
    "Here are some real examples from clinical trials:\n",
    "* alcoholism\n",
    "* Has alcohol and/or drug abuse.\n",
    "* Drug or alcohol dependence\n",
    "* Consuming more than 14 alcoholic beverages per week\n",
    "* Substance or alcohol dependence according to the DSM-IV criteria at randomization (except complete recovered, and caffeine and nicotine dependence)\n",
    "* Mental illness or history of drug or alcohol abuse that, in the opinion of the investigator, would interfere with the participant's ability to comply with study requirements.\n",
    "* Significant history of alcoholism or drug abuse.\n",
    "* Hospitalization anytime since 1990 for Alcohol or Drug Dependence, Depression, or PTSD\n",
    "* drug-alcoholics addiction ;\n",
    "* Addictions to alcohol or drugs.\n",
    "* Chronic alcohol use not diagnosed in criterion 6. i. Subjects unwilling to limit their alcohol intake to 2 standard drinks per day will be excluded. \n",
    "\n",
    "If a clinical trial eligibility contains the key word \"alcohol\", we will label alcohol = 1"
   ]
  },
  {
   "cell_type": "code",
   "execution_count": 4,
   "id": "8f3e069b",
   "metadata": {},
   "outputs": [],
   "source": [
    "df['alcohol'] = 0\n",
    "\n",
    "for index, row in df.iterrows():\n",
    "    if 'alcohol' in row['criteria']:\n",
    "        df.loc[index,'alcohol'] = 1\n",
    "\n"
   ]
  },
  {
   "cell_type": "markdown",
   "id": "f6e44746",
   "metadata": {},
   "source": [
    "## Drug"
   ]
  },
  {
   "cell_type": "markdown",
   "id": "074f17d4",
   "metadata": {},
   "source": [
    "Here we will detect whether criteria contain BOTH a key word from list a and list b."
   ]
  },
  {
   "cell_type": "code",
   "execution_count": 5,
   "id": "42763d3e",
   "metadata": {},
   "outputs": [],
   "source": [
    "df['drug'] = 0\n",
    "\n",
    "a = ['drug', 'substance', 'marijuana']\n",
    "b = ['dependence', 'addiction', 'abuse', 'use']"
   ]
  },
  {
   "cell_type": "code",
   "execution_count": 6,
   "id": "6d7ad95e",
   "metadata": {},
   "outputs": [],
   "source": [
    "for index, row in df.iterrows():\n",
    "    if any(x in row['criteria'] for x in a) and any(x in row['criteria'] for x in b):\n",
    "        df.loc[index,'drug'] = 1\n"
   ]
  },
  {
   "cell_type": "markdown",
   "id": "dd7ffd6c",
   "metadata": {},
   "source": [
    "## Smoking"
   ]
  },
  {
   "cell_type": "markdown",
   "id": "8b75f4c1",
   "metadata": {},
   "source": [
    "Here we will detect whether criteria contain BOTH a key word from list a and list b."
   ]
  },
  {
   "cell_type": "code",
   "execution_count": 18,
   "id": "af604f2b",
   "metadata": {},
   "outputs": [],
   "source": [
    "df['smoke'] = 0\n",
    "\n",
    "a = ['smoked', 'tobacco', 'nicotine']\n",
    "b = ['dependence', 'addiction', 'abuse', 'use', 'users']\n",
    "c = ['smoker', 'smoking']"
   ]
  },
  {
   "cell_type": "code",
   "execution_count": 19,
   "id": "259932d0",
   "metadata": {},
   "outputs": [],
   "source": [
    "for index, row in df.iterrows():\n",
    "    if any(x in row['criteria'] for x in c):\n",
    "        df.loc[index,'smoke'] = 1\n",
    "    elif any(x in row['criteria'] for x in a) and any(x in row['criteria'] for x in b):\n",
    "        df.loc[index,'smoke'] = 1"
   ]
  },
  {
   "cell_type": "code",
   "execution_count": 20,
   "id": "c84420d6",
   "metadata": {},
   "outputs": [
    {
     "data": {
      "text/html": [
       "<div>\n",
       "<style scoped>\n",
       "    .dataframe tbody tr th:only-of-type {\n",
       "        vertical-align: middle;\n",
       "    }\n",
       "\n",
       "    .dataframe tbody tr th {\n",
       "        vertical-align: top;\n",
       "    }\n",
       "\n",
       "    .dataframe thead th {\n",
       "        text-align: right;\n",
       "    }\n",
       "</style>\n",
       "<table border=\"1\" class=\"dataframe\">\n",
       "  <thead>\n",
       "    <tr style=\"text-align: right;\">\n",
       "      <th></th>\n",
       "      <th>id</th>\n",
       "      <th>criteria</th>\n",
       "      <th>alcohol</th>\n",
       "      <th>drug</th>\n",
       "      <th>smoke</th>\n",
       "    </tr>\n",
       "  </thead>\n",
       "  <tbody>\n",
       "    <tr>\n",
       "      <th>28</th>\n",
       "      <td>29</td>\n",
       "      <td>smokers, tobacco/snuff/nicotine users, recreat...</td>\n",
       "      <td>0</td>\n",
       "      <td>1</td>\n",
       "      <td>1</td>\n",
       "    </tr>\n",
       "    <tr>\n",
       "      <th>29</th>\n",
       "      <td>30</td>\n",
       "      <td>presently a smoker or ex-smoker with history o...</td>\n",
       "      <td>0</td>\n",
       "      <td>0</td>\n",
       "      <td>1</td>\n",
       "    </tr>\n",
       "    <tr>\n",
       "      <th>30</th>\n",
       "      <td>31</td>\n",
       "      <td>a history of abuse of psychotropic substances ...</td>\n",
       "      <td>0</td>\n",
       "      <td>1</td>\n",
       "      <td>1</td>\n",
       "    </tr>\n",
       "    <tr>\n",
       "      <th>31</th>\n",
       "      <td>32</td>\n",
       "      <td>patients who are actively smoking.</td>\n",
       "      <td>0</td>\n",
       "      <td>0</td>\n",
       "      <td>1</td>\n",
       "    </tr>\n",
       "    <tr>\n",
       "      <th>32</th>\n",
       "      <td>33</td>\n",
       "      <td>is an active smoker or stopped smoking in the ...</td>\n",
       "      <td>0</td>\n",
       "      <td>0</td>\n",
       "      <td>1</td>\n",
       "    </tr>\n",
       "  </tbody>\n",
       "</table>\n",
       "</div>"
      ],
      "text/plain": [
       "    id                                           criteria  alcohol  drug  \\\n",
       "28  29  smokers, tobacco/snuff/nicotine users, recreat...        0     1   \n",
       "29  30  presently a smoker or ex-smoker with history o...        0     0   \n",
       "30  31  a history of abuse of psychotropic substances ...        0     1   \n",
       "31  32                 patients who are actively smoking.        0     0   \n",
       "32  33  is an active smoker or stopped smoking in the ...        0     0   \n",
       "\n",
       "    smoke  \n",
       "28      1  \n",
       "29      1  \n",
       "30      1  \n",
       "31      1  \n",
       "32      1  "
      ]
     },
     "execution_count": 20,
     "metadata": {},
     "output_type": "execute_result"
    }
   ],
   "source": [
    "df.tail()"
   ]
  },
  {
   "cell_type": "code",
   "execution_count": 21,
   "id": "17149208",
   "metadata": {},
   "outputs": [],
   "source": [
    "df.to_csv(('output_'+ date + '.csv'),index = False)"
   ]
  },
  {
   "cell_type": "markdown",
   "id": "fa1be088",
   "metadata": {},
   "source": [
    "#  The less common scenarios"
   ]
  },
  {
   "cell_type": "markdown",
   "id": "1bd84cd4",
   "metadata": {},
   "source": [
    "In the less common scenarios, for example, a clinical trial may want to study cigarettes cesession. In this case, they actually want to recruit participants who smoke.\n",
    "\n",
    "We need to separate clinical trials into two groups: substance cessation studies and everything else.\n",
    "\n",
    "if a clinical trial is a substance cessation study, then we know that they DO want participants who drink, use drugs, or smoke.  For each clinical trials in our database, we will verify whether it is a substance related trial."
   ]
  }
 ],
 "metadata": {
  "kernelspec": {
   "display_name": "Python 3",
   "language": "python",
   "name": "python3"
  },
  "language_info": {
   "codemirror_mode": {
    "name": "ipython",
    "version": 3
   },
   "file_extension": ".py",
   "mimetype": "text/x-python",
   "name": "python",
   "nbconvert_exporter": "python",
   "pygments_lexer": "ipython3",
   "version": "3.8.8"
  }
 },
 "nbformat": 4,
 "nbformat_minor": 5
}
